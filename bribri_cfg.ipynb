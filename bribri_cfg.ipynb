{
  "nbformat": 4,
  "nbformat_minor": 0,
  "metadata": {
    "colab": {
      "name": "bribri-cfg.ipynb",
      "provenance": [],
      "collapsed_sections": [],
      "toc_visible": true
    },
    "kernelspec": {
      "name": "python3",
      "display_name": "Python 3"
    },
    "language_info": {
      "name": "python"
    }
  },
  "cells": [
    {
      "cell_type": "markdown",
      "metadata": {
        "id": "WqKaC4HuYMXs"
      },
      "source": [
        "# Gramática y parser de constituyentes (CFG) para el bribri\n",
        "**Grammar and CFG parser for Bribri**\n",
        "\n",
        "Versión b01, 20211203<br>Rolando Coto-Solano\n",
        "\n",
        "El programa recibe dos inputs: (i) una oración en bribri y (ii) las partes de la palabra de cada palabra. El output es un parseo de constituyentes.\n",
        "\n",
        "The program receives two inputs: (i) a sentence in Bribri and (iii) the POS for each word. The output is a constituent parse."
      ]
    },
    {
      "cell_type": "markdown",
      "metadata": {
        "id": "ipAunUrOpgsc"
      },
      "source": [
        "## Gramática CFG del bribri\n",
        "**Bribri CFG Grammar**"
      ]
    },
    {
      "cell_type": "code",
      "metadata": {
        "id": "gOfRr9zEp52T"
      },
      "source": [
        "import nltk"
      ],
      "execution_count": 1,
      "outputs": []
    },
    {
      "cell_type": "code",
      "metadata": {
        "id": "l1Fo8jp9pgVV"
      },
      "source": [
        "grammarBribri = nltk.CFG.fromstring(\"\"\"\n",
        "  \n",
        "    S      -> NP VP | VP | VP NP | ADVP NP VP | PP NP VP | PP PP NP VP | ADVP PP NP VP  \n",
        "    S      -> ADVCLP PP NP VP | ADVCLP PP PP NP VP | ADVCLP PP VP NP\n",
        "    \n",
        "    NP     -> N | PRON | N ERG | PRON ERG | PRON N | PRON N ERG | N N | PRON N N | PRON N N N\n",
        "    NP     -> N ADJP\n",
        "    NP     -> N DEM | N N DEM | N NUM | N ADJP DEM | N ADJP DEM ERG\n",
        "    \n",
        "    CONJP  -> NP1 CONJ NP2\n",
        "    NP1    -> NP\n",
        "    NP2    -> NP\n",
        "    \n",
        "    VP     -> COP ADJP | COP NP | COP PP\n",
        "    VP     -> COP CONJP\n",
        "    VP     -> ADV COP ADJP | ADV COP NP | ADV COP PP\n",
        "    VP     -> VRIGHT NP | VRIGHT | VRIGHT CP | VRIGHT PP | VRIGHT PP CONJPP | VRIGHT NUM PP | VRIGHT PP NP | VRIGHT ADVP\n",
        "    VP     -> NP VRIGHT NP | NP VRIGHT ADVP NP\n",
        "    VP     -> VRIGHT CP ADVCLP | VRIGHT ADVCLP\n",
        "    VP     -> NP V | NP V ADVP | NP V NUM | NP V PP | PP NP V\n",
        "    VP     -> V | V ADVP | ADVP V | ADVP V ADVP | ADVP NP V | V PP | PP V | V NUM | V NUM PP | V ADVP PP\n",
        "    VP     -> PP NP V PP ADVP | PP NP V PP PP | NP V PP PP\n",
        "    VP     -> POSIT PP | POSIT ADVP | POSIT NUM | POSIT NUM PP\n",
        "    VP     -> V CP | ADV V CP\n",
        "    VP     -> NP VINF | NP VINF ADVP | PP NP VINF\n",
        "    VP     -> VINF NUM | VINF | VINF PP | PP VINF | VINF PP PP\n",
        "    VP     -> V SUBORDP\n",
        "    VP     -> V ADVP ADVCLP\n",
        "    VP     -> ADVP V POSIT PP | V POSIT\n",
        "\n",
        "    CP      -> VP\n",
        "    SUBORDP -> SUBORDMARK NP VP\n",
        "\n",
        "    ADVCLP -> ADVCL NP VP\n",
        "    ADVCLP -> NP VP | VP\n",
        "\n",
        "    PP     -> NP POSTP  | NP ADVP POSTP | CONJP POSTP\n",
        "    CONJPP -> PP1 CONJ PP2\n",
        "    PP1    -> PP\n",
        "    PP2    -> PP\n",
        "\n",
        "    ADJP   -> ADJ | ADJ ADJ | ADJ ADVP\n",
        "    ADVP   -> ADV | ADV ADV | NP PART | ADV PART | PART\n",
        "    ADVCLP -> ADVCL\n",
        "\n",
        "    N      -> \"leaf:noun\" | \"leaf:nprop\"\n",
        "    DEM    -> \"leaf:dem-pronoun\"\n",
        "    ERG    -> \"leaf:ergative\"\n",
        "    CONJ   -> \"leaf:conjunction\"\n",
        "    V      -> \"leaf:verb\"\n",
        "    VRIGHT -> \"leaf:verb-objright\"\n",
        "    VINF   -> \"leaf:verb-infinitive\"\n",
        "    POSIT  -> \"leaf:positional\"\n",
        "    PRON   -> \"leaf:pronoun\" | \"leaf:dem-pronoun\"\n",
        "    COP    -> \"leaf:copula\"\n",
        "    ADJ    -> \"leaf:adjective\" | \"leaf:quantifier\"\n",
        "    ADV    -> \"leaf:adverb\" | \"leaf:adjective\" | \"leaf:wh-adv\" | \"leaf:negative\" | \"leaf:ideophone\" | \"leaf:quantifier\"\n",
        "    POSTP  -> \"leaf:postposition\"\n",
        "    NUM    -> \"leaf:numeral\"\n",
        "    ADVCL  -> \"leaf:subord-clause\"\n",
        "    SUBORDMARK -> \"leaf:subord-mark\"\n",
        "    PART   -> \"leaf:particle\"\n",
        "\n",
        "  \"\"\")"
      ],
      "execution_count": 2,
      "outputs": []
    },
    {
      "cell_type": "markdown",
      "metadata": {
        "id": "Sl8UTlwzzG2b"
      },
      "source": [
        "## Funciones para parsing\n",
        "**Parsing functions**"
      ]
    },
    {
      "cell_type": "markdown",
      "metadata": {
        "id": "gYOOJQhrzIq7"
      },
      "source": [
        "### Recorrido a través de los árboles\n",
        "**Tree traverse**"
      ]
    },
    {
      "cell_type": "code",
      "metadata": {
        "id": "xXmbeAXCsM_p"
      },
      "source": [
        "#https://stackoverflow.com/questions/28681741/find-a-path-in-an-nltk-tree-tree\n",
        "\n",
        "def get_lca_length(location1, location2):\n",
        "    i = 0\n",
        "    while i < len(location1) and i < len(location2) and location1[i] == location2[i]:\n",
        "        i+=1\n",
        "    return i\n",
        "\n",
        "def get_labels_from_lca(ptree, lca_len, location):\n",
        "    labels = []\n",
        "    for i in range(lca_len, len(location)):\n",
        "        labels.append(ptree[location[:i]].label())\n",
        "    return labels\n",
        "\n",
        "def findPath(ptree, inIndex1, inIndex2):\n",
        "    leaf_values = ptree.leaves()\n",
        "    leaf_index1 = inIndex1\n",
        "    leaf_index2 = inIndex2\n",
        "\n",
        "    location1 = ptree.leaf_treeposition(leaf_index1)\n",
        "    location2 = ptree.leaf_treeposition(leaf_index2)\n",
        "\n",
        "    #find length of least common ancestor (lca)\n",
        "    lca_len = get_lca_length(location1, location2)\n",
        "\n",
        "    #find path from the node1 to lca\n",
        "\n",
        "    labels1 = get_labels_from_lca(ptree, lca_len, location1)\n",
        "    #ignore the first element, because it will be counted in the second part of the path\n",
        "    result = labels1[1:]\n",
        "    #inverse, because we want to go from the node to least common ancestor\n",
        "    result = result[::-1]\n",
        "\n",
        "    #add path from lca to node2\n",
        "    result = result + get_labels_from_lca(ptree, lca_len, location2)\n",
        "    return result"
      ],
      "execution_count": 18,
      "outputs": []
    },
    {
      "cell_type": "markdown",
      "metadata": {
        "id": "Tq-ZJm9Yp_rR"
      },
      "source": [
        "### Llamar a NTLK para construir el árbol\n",
        "**Make NLTK call to get tree**"
      ]
    },
    {
      "cell_type": "code",
      "metadata": {
        "colab": {
          "base_uri": "https://localhost:8080/"
        },
        "id": "iavEuLNvqU0z",
        "outputId": "7030b478-e001-4084-d8af-5c0032322a3c"
      },
      "source": [
        "import time\n",
        "import nltk\n",
        "nltk.download('treebank')\n",
        "\n",
        "# This function gets the possible parses for a tree.\n",
        "def getTree(phraseToBeParsed, grammar, words, pos, foma, squareBrackets=False, verbose = 0):\n",
        "\n",
        "    t = \"\"\n",
        "    rejectTree = 0\n",
        "    counter = 1\n",
        "\n",
        "    sent = phraseToBeParsed.split()\n",
        "    rd_parser = nltk.RecursiveDescentParser(grammar, trace=0)\n",
        "        \n",
        "    for tree in rd_parser.parse(sent):\n",
        "\n",
        "      try:\n",
        "        if (verbose == 1): print(\"*** i'm trying to parse tree \" + str(counter) + \" ***\")\n",
        "        rejectTree = rejectCFGDueToBribriRules(tree, words, pos, foma, verbose = verbose)\n",
        "        if (rejectTree == 0): t = str(tree) + \"\\n\"\n",
        "        if (verbose == 1): print(str(tree).replace(\"(\", \"[\").replace(\")\",\"]\"))\n",
        "        counter += 1\n",
        "      except RuntimeError:\n",
        "        pass\n",
        "\n",
        "    return t"
      ],
      "execution_count": 4,
      "outputs": [
        {
          "output_type": "stream",
          "name": "stdout",
          "text": [
            "[nltk_data] Downloading package treebank to /root/nltk_data...\n",
            "[nltk_data]   Unzipping corpora/treebank.zip.\n"
          ]
        }
      ]
    },
    {
      "cell_type": "markdown",
      "metadata": {
        "id": "TeMlxpirs83w"
      },
      "source": [
        "### Comenzar el parseo con CFG\n",
        "**Start CFG Parse**\n"
      ]
    },
    {
      "cell_type": "code",
      "metadata": {
        "id": "qkob4O2_p_Oi"
      },
      "source": [
        "def getCFGParse(inputWords, inputPOS, inputFoma, inputCFG = \"\", convertSofiaOrthography = 0, verbose = 0):\n",
        "\n",
        "  resTree = \"\"\n",
        "  posLeafTree = \"\"\n",
        "  posNumberedTree = \"\"\n",
        "\n",
        "  constituentSeparator = \")\"\n",
        "  \n",
        "  for i in range(0, len(inputPOS)):\n",
        "    if (len(inputPOS[i]) < 5) or (inputPOS[i][0:5] != \"leaf:\"):\n",
        "      inputPOS[i] = \"leaf:\" + inputPOS[i]\n",
        "\n",
        "  posAsLine = \" \".join(inputPOS)\n",
        "  \n",
        "  try:\n",
        "    if (inputCFG == \"\"):\n",
        "      resTree = getTree(posAsLine, grammarBribri, inputWords, inputPOS, inputFoma, verbose = verbose)\n",
        "    else:\n",
        "      if (inputCFG[0:1] == \"[\"): inputCFG = inputCFG.replace(\"[\", \"(\").replace(\"]\", \")\")\n",
        "      tempTree = nltk.tree.Tree.fromstring(inputCFG)\n",
        "      for leafPos in tempTree.treepositions('leaves'):\n",
        "        tempTree[leafPos] = \"leaf:\" + tempTree[leafPos]\n",
        "      resTree = str(tempTree)\n",
        "  except Exception as e:\n",
        "    print(\"Exception: CFG parsing failed\")\n",
        "    print(e)\n",
        "\n",
        "  if (resTree != \"\"):\n",
        "\n",
        "    posLeafTree = nltk.tree.Tree.fromstring(resTree)\n",
        "    posNumberedTree = resTree\n",
        "\n",
        "    if (resTree != \"\"):\n",
        "      # for every word in inputWords: (i) find the leftmost leaf (ii) find\n",
        "      # it's beginning and end indeces, and (iii) replace that with the word\n",
        "      for i in range(0, len(inputWords)):\n",
        "        indexStartWord = resTree.find(\"leaf:\")\n",
        "        indexBracket = resTree.find(constituentSeparator, indexStartWord)\n",
        "        indexEndWord = indexBracket - 1\n",
        "        wordInLeaf = inputWords[i]\n",
        "        if (convertSofiaOrthography == 1): wordInLeaf = convertToHumanSpelling(wordInLeaf)\n",
        "        resTree = resTree[:indexStartWord] + wordInLeaf + resTree[indexEndWord + 1:]\n",
        "      for i in range(0, len(inputWords)):\n",
        "        indexStartWord = posNumberedTree.find(\"leaf:\")\n",
        "        indexBracket = posNumberedTree.find(constituentSeparator, indexStartWord)\n",
        "        indexEndWord = indexBracket - 1\n",
        "        wordInLeaf = inputWords[i]\n",
        "        if (convertSofiaOrthography == 1): wordInLeaf = convertToHumanSpelling(wordInLeaf)\n",
        "        posNumberedTree = posNumberedTree[:indexStartWord] + str(i+1) + \"/\" + wordInLeaf + posNumberedTree[indexEndWord + 1:]\n",
        "\n",
        "      resTree = nltk.tree.Tree.fromstring(resTree)\n",
        "      posNumberedTree = nltk.tree.Tree.fromstring(posNumberedTree)\n",
        "\n",
        "    for i in range(0, len(inputPOS)):\n",
        "      inputPOS[i] = inputPOS[i].replace(\"leaf:\", \"\")\n",
        "\n",
        "  else:\n",
        "    print(\"ERROR: I couldn't produce a CFG parse\")\n",
        "\n",
        "  return (resTree)"
      ],
      "execution_count": 5,
      "outputs": []
    },
    {
      "cell_type": "markdown",
      "metadata": {
        "id": "3Niw9yCts-u3"
      },
      "source": [
        "### Rechazar árboles CFG por reglas internas de la lengua\n",
        "Reject CFG trees because of language-internal rules"
      ]
    },
    {
      "cell_type": "code",
      "metadata": {
        "id": "QVeNSzmarvtC"
      },
      "source": [
        "def rejectCFGDueToBribriRules(inTree, inWords, inPOS, inFoma, verbose = 0):\n",
        "\n",
        "  reject = 0\n",
        "\n",
        "  # =====================================================================\n",
        "  # Reject sentences without a subject. A sentence where:\n",
        "  # (i) the main verb has an absolutive, but\n",
        "  # (ii) the absolutive is not in an NP that is a sister to VP\n",
        "  # E.g.: (S (VP (NP  (the only NP got swallowed into the VP)\n",
        "  # =====================================================================\n",
        "\n",
        "  isThereErgativeSubject = 0\n",
        "  areThereNounsBeforeV = 0\n",
        "  isThereASubject = 0\n",
        "\n",
        "  for i in range(0,len(inPOS)):\n",
        "    \n",
        "    if (inPOS[i] == \"leaf:verb\"):\n",
        "      indexVerb = i\n",
        "      for j in range(0,len(inPOS)):\n",
        "        \n",
        "        # First, is there an ergative subject?\n",
        "        if (inPOS[j] == \"leaf:ergative\"):\n",
        "          path = findPath(inTree, indexVerb, j)\n",
        "          if (\"S\" in path and \"CP\" not in path and \"PP\" not in path):\n",
        "            isThereErgativeSubject = 1\n",
        "\n",
        "    # Second, are there any subjects?\n",
        "    if (inPOS[i] == \"leaf:verb\" or inPOS[i] == \"leaf:verb-objright\" or inPOS[i] == \"leaf:positional\"):\n",
        "      indexVerb = i\n",
        "      for j in range(0,len(inPOS)):\n",
        "        if (inPOS[j] == \"leaf:noun\" or inPOS[j] == \"leaf:nprop\" or inPOS[j] == \"leaf:pronoun\" or inPOS[j] == \"leaf:dem-pronoun\"):\n",
        "          path = findPath(inTree, indexVerb, j)\n",
        "          if (\"S\" in path): isThereASubject = 1\n",
        "\n",
        "\n",
        "  # Third, do I have any nouns to the left of the verb?\n",
        "  indexFirstV = -1\n",
        "  indexFirstV = str(inTree).find(\"(V \")\n",
        "  if (indexFirstV == -1):\n",
        "    indexFirstV = str(inTree).find(\"(VRIGHT \")\n",
        "    if (indexFirstV == -1):\n",
        "      indexFirstV = str(inTree).find(\"(VERB-OBJRIGHT \")\n",
        "      if (indexFirstV == -1):\n",
        "        indexFirstV = str(inTree).find(\"(POSIT \")\n",
        "  indexFirstNP = -1\n",
        "  indexFirstNP = str(inTree).find(\"(NP\")\n",
        "  if (indexFirstNP != -1 and indexFirstNP < indexFirstV):\n",
        "    areThereNounsBeforeV = 1\n",
        "\n",
        "  if (areThereNounsBeforeV != 0 and isThereErgativeSubject == 0 and isThereASubject == 0):\n",
        "    reject = 1\n",
        "    if (verbose == 1): print(\"*** Tree rejected because of lack of subject\")\n",
        "\n",
        "  # =====================================================================\n",
        "  # Reject sentences without a verb. A sentence where:\n",
        "  # (i) The sentence does have a VP connected to S, but (ii) the VP \n",
        "  # does not contain a finite verb\n",
        "  # =====================================================================\n",
        "\n",
        "  if (reject == 0):\n",
        "\n",
        "    doesTreeHaveVP = 0\n",
        "    doesVPHaveFiniteVerb = 0\n",
        "\n",
        "    for child1 in inTree:\n",
        "      child1Label = child1.label()\n",
        "      if (child1Label == \"VP\"):\n",
        "        doesTreeHaveVP = 1\n",
        "        for child2 in child1:\n",
        "          child2Label = child2.label()\n",
        "          if (child2Label == \"V\" or child2Label == \"VRIGHT\" or child2Label == \"POSIT\") or child2Label == \"COP\":\n",
        "            doesVPHaveFiniteVerb = 1\n",
        "    \n",
        "    if (doesTreeHaveVP == 1 and doesVPHaveFiniteVerb == 0):\n",
        "      reject = 1\n",
        "      if (verbose == 1): print(\"*** Reject because the sentence as a whole has a VP but it doesn't have a finite verb as its root\")\n",
        "\n",
        "  # =====================================================================\n",
        "  # Reject a sentence where the adverbial clause stepped into \n",
        "  # the main clause (where the e'ta is associated with the\n",
        "  # adverbial clause and not the main clause)\n",
        "  # =====================================================================\n",
        "\n",
        "  if (reject == 0):\n",
        "\n",
        "    doesPhraseHaveEta = 0\n",
        "    indexesEta = []\n",
        "\n",
        "    # See if the phrase \"e' tã\" (\"then, therefore\") exists in the sentence\n",
        "    for i in range (0, len(inWords)):\n",
        "      if (inWords[i] == \"e'\"):\n",
        "        if (i+1 < len(inWords)):\n",
        "          if (inWords[i+1] == \"tã\"):\n",
        "            doesPhraseHaveEta = 1\n",
        "            indexesEta.append(i)\n",
        "\n",
        "    if (doesPhraseHaveEta == 1):\n",
        "\n",
        "      for eta in indexesEta:\n",
        "\n",
        "        reversePOS = inPOS[::-1]\n",
        "        reverseIndexEta = len(reversePOS) - eta - 1\n",
        "\n",
        "        # See if there is a preceding verb\n",
        "        foundNearestPreviousVerb = 0\n",
        "        indexNearestPreviousVerb = -1\n",
        "        for i in range(reverseIndexEta + 1, len(reversePOS)):\n",
        "          if (foundNearestPreviousVerb == 0):\n",
        "            if (reversePOS[i] == \"leaf:verb\" or reversePOS[i] == \"leaf:verb-objright\" or reversePOS[i] == \"leaf:positional\" or reversePOS[i] == \"leaf:verb-infinitive\"):\n",
        "              foundNearestPreviousVerb = 1\n",
        "              indexNearestPreviousVerb = len(reversePOS) - i - 1\n",
        "        \n",
        "        if (foundNearestPreviousVerb == 1):\n",
        "          pathPreviousVP = findPath(inTree, eta, indexNearestPreviousVerb)\n",
        "\n",
        "        # See if there is a preceding noun\n",
        "        foundNearestPreviousNoun = 0\n",
        "        indexNearestPreviousNoun = -1\n",
        "        for i in range(reverseIndexEta + 1, len(reversePOS)):\n",
        "          if (foundNearestPreviousNoun == 0):\n",
        "            if (reversePOS[i] == \"leaf:noun\" or reversePOS[i] == \"leaf:nprop\"):\n",
        "              foundNearestPreviousNoun = 1\n",
        "              indexNearestPreviousNoun = len(reversePOS) - i - 1\n",
        "\n",
        "        if (foundNearestPreviousNoun == 1):\n",
        "          pathPreviousNP = findPath(inTree, eta, indexNearestPreviousNoun)\n",
        "\n",
        "        # See if there is a following verb\n",
        "        foundNearestFollowingVerb = 0\n",
        "        indexNearestFollowingVerb = -1\n",
        "        for i in range(eta + 2, len(inPOS)):\n",
        "          if (foundNearestFollowingVerb == 0):\n",
        "            if (inPOS[i] == \"leaf:verb\" or inPOS[i] == \"leaf:verb-objright\" or inPOS[i] == \"leaf:positional\" or inPOS[i] == \"leaf:verb-infinitive\"):\n",
        "              foundNearestFollowingVerb = 1\n",
        "              indexNearestFollowingVerb = i\n",
        "\n",
        "        if (foundNearestFollowingVerb == 1):\n",
        "          pathFollowingVP = findPath(inTree, eta, indexNearestFollowingVerb)\n",
        "\n",
        "        if (foundNearestPreviousVerb == 1 and foundNearestFollowingVerb == 1 and len(pathPreviousVP) > 0 and len(pathFollowingVP) > 0):\n",
        "          \n",
        "          try: indexSToLeft = pathPreviousVP.index(\"S\")\n",
        "          except: indexSToLeft = -1\n",
        "          try: indexAdvCLPtoLeft = pathPreviousVP.index(\"ADVCLP\")\n",
        "          except: indexAdvCLPtoLeft = -1\n",
        "          try: indexSToRight = pathFollowingVP.index(\"S\")\n",
        "          except: indexSToRight = -1\n",
        "          try: indexAdvCLPtoRight = pathFollowingVP.index(\"ADVCLP\")\n",
        "          except: indexAdvCLPtoRight = -1\n",
        "\n",
        "          if (indexAdvCLPtoLeft != -1 and indexSToLeft > indexAdvCLPtoLeft):\n",
        "            reject = 1\n",
        "            if (verbose == 1): print(\"*** Tree rejected because of bad edge of adverbial clause (e' ta in a subordinate to the left of the main clause)\")\n",
        "          elif (indexAdvCLPtoRight != -1 and indexSToRight > indexAdvCLPtoRight):\n",
        "            reject = 1\n",
        "            if (verbose == 1): print(\"*** Tree rejected because of bad edge of adverbial clause (e' ta in a subordinate to the right of the main clause)\")\n",
        "\n",
        "        if (foundNearestPreviousNoun == 1 and foundNearestPreviousVerb == 1 and len(pathPreviousNP) > 0):\n",
        "          if (\"ADVCLP\" not in pathPreviousNP):\n",
        "            reject = 1\n",
        "            if (verbose == 1): print(\"*** Tree rejected because of bad edge of adverbial clause (noun from subord clause linked to e' ta)\")\n",
        "\n",
        "  # =====================================================================\n",
        "  # Reject a sentence where the ADVCLP (adverbial phrase) does not\n",
        "  # contain a finite verb (these should be in CPs)\n",
        "  # =====================================================================\n",
        "\n",
        "  if (reject == 0):\n",
        "\n",
        "    if \"ADVCLP\" in str(inTree):\n",
        "\n",
        "      finiteVerbs = []\n",
        "      nonfiniteVerbs = []\n",
        "      for i in range(0,len(inPOS)):\n",
        "        if (inPOS[i] == \"leaf:verb\" or inPOS[i] == \"leaf:positional\" or inPOS[i] == \"leaf:verb-objright\"): finiteVerbs.append(1)\n",
        "        else: finiteVerbs.append(0)\n",
        "        if (inPOS[i] == \"leaf:verb-infinitive\"): nonfiniteVerbs.append(1)\n",
        "        else: nonfiniteVerbs.append(0)\n",
        "\n",
        "      for i in range(0, len(finiteVerbs)):\n",
        "        for j in range(0, len(nonfiniteVerbs)):\n",
        "          if (finiteVerbs[i] == 1 and nonfiniteVerbs[j] == 1):\n",
        "            path = findPath(inTree, i, j)\n",
        "            if 'CP' not in path:\n",
        "              reject = 1\n",
        "              if (verbose == 1): print(\"*** Tree rejected an infinitive was not contained in a CP\")\n",
        "            \n",
        "\n",
        "  return(reject)"
      ],
      "execution_count": 20,
      "outputs": []
    },
    {
      "cell_type": "markdown",
      "metadata": {
        "id": "hQMN2Rd55I72"
      },
      "source": [
        "### parseBribri (función inicial)\n",
        "Recibe una oración y la POS para cada palabra, y pone cada una en un vector. Luego le pasa esta información de getCFGParse."
      ]
    },
    {
      "cell_type": "code",
      "metadata": {
        "id": "2Diy5vXFxXH-"
      },
      "source": [
        "def parseBribri(sentence, pos):\n",
        "  resWords = sentence.split(\" \")\n",
        "  resPOS = pos.split(\" \")\n",
        "  cfgParse = getCFGParse(resWords, resPOS, \"\", \"\", verbose = 0)\n",
        "  cfgParse = str(cfgParse)\n",
        "  cfgParse = cfgParse.replace(\"(\",\"[\")\n",
        "  cfgParse = cfgParse.replace(\")\",\"]\")\n",
        "  return cfgParse"
      ],
      "execution_count": 21,
      "outputs": []
    },
    {
      "cell_type": "markdown",
      "metadata": {
        "id": "CzRjb5JOrYq7"
      },
      "source": [
        "## Ejemplos de parsing\n",
        "Parsing examples\n",
        "\n",
        "Puede usar un sitio como http://mshang.ca/syntree/ para visualizar los árboles.<br>\n",
        "You can use a site like http://mshang.ca/syntree/ to visualize the trees."
      ]
    },
    {
      "cell_type": "code",
      "metadata": {
        "colab": {
          "base_uri": "https://localhost:8080/"
        },
        "id": "psaGs4Doxf-b",
        "outputId": "d7c42a4f-bc9d-4839-83ac-909d5fa4a789"
      },
      "source": [
        "resParse = parseBribri(\"Ye' tö ù sú̠\", \"pronoun ergative noun verb\")    # Yo vi la casa, I saw the house\n",
        "print(resParse)"
      ],
      "execution_count": 19,
      "outputs": [
        {
          "output_type": "stream",
          "name": "stdout",
          "text": [
            "[S [NP [PRON Ye'] [ERG tö]] [VP [NP [N ù]] [V sú̠]]]\n"
          ]
        }
      ]
    },
    {
      "cell_type": "code",
      "metadata": {
        "colab": {
          "base_uri": "https://localhost:8080/"
        },
        "id": "4LXkmwLixv-7",
        "outputId": "4d47d952-e2e1-4461-a2b7-5f70251aea6d"
      },
      "source": [
        "resParse = parseBribri(\"Wë́pa ië'te̠n ù a̠\", \"noun positional noun postposition\")    # Los hombres están (de pie) en la casa, The men are (standing) in the house\n",
        "print(resParse)"
      ],
      "execution_count": 22,
      "outputs": [
        {
          "output_type": "stream",
          "name": "stdout",
          "text": [
            "[S [NP [N Wë́pa]] [VP [POSIT ië'te̠n] [PP [NP [N ù]] [POSTP a̠]]]]\n"
          ]
        }
      ]
    },
    {
      "cell_type": "code",
      "metadata": {
        "colab": {
          "base_uri": "https://localhost:8080/"
        },
        "id": "hA-EwK5gyORk",
        "outputId": "8f175f06-bdf1-49b4-902e-e68b87f5dc4c"
      },
      "source": [
        "resParse = parseBribri(\"Chìchi dör sarûrû\", \"noun copula adjective\")    # El perro es blanco, The dog is white\n",
        "print(resParse)"
      ],
      "execution_count": 17,
      "outputs": [
        {
          "output_type": "stream",
          "name": "stdout",
          "text": [
            "[S [NP [N Chìchi]] [VP [COP dör] [ADJP [ADJ sarûrû]]]]\n"
          ]
        }
      ]
    }
  ]
}